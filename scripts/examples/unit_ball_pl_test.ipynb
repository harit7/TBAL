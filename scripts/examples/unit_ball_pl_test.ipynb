{
 "cells": [
  {
   "cell_type": "code",
   "execution_count": 1,
   "metadata": {},
   "outputs": [],
   "source": [
    "import sys\n",
    "sys.path.append('../../../')\n",
    "sys.path.append('../../')\n",
    "sys.path.append('../')\n",
    "\n",
    "from core.conf_defaults import *\n",
    "from core.tbal import * \n",
    "from core.auto_labeling import *\n",
    "from core.run_lib import * \n",
    "from datasets.dataset_utils import * \n",
    "from utils.counting_utils import *  \n",
    "from utils.common_utils import * \n",
    "from utils.vis_utils import *\n",
    "from utils.logging_utils import * \n",
    "from  datasets.data_manager import * \n",
    "from omegaconf import OmegaConf\n",
    "\n",
    "\n",
    "root_dir = '../../'\n",
    "conf_dir = f'{root_dir}configs/unit-ball/'\n",
    "\n",
    "base_conf_file = '{}/unit_ball_base_conf.yaml'.format(conf_dir)\n",
    "\n",
    "logger      = get_logger(f'{root_dir}/temp/logs/tbal_unit_ball_test.log',stdout_redirect=True,level=logging.DEBUG)\n",
    "\n",
    "conf = OmegaConf.load(base_conf_file)\n",
    "set_seed(conf['random_seed'])\n",
    "\n",
    "set_defaults(conf)"
   ]
  },
  {
   "cell_type": "code",
   "execution_count": 2,
   "metadata": {},
   "outputs": [
    {
     "name": "stdout",
     "output_type": "stream",
     "text": [
      "[01/02/2024 09:23:09 PM : INFO  : data_manag : ] : Loaded dataset unif_unit_ball\n",
      "[01/02/2024 09:23:09 PM : INFO  : data_manag : ] : Std train size: 16000 and Std. Val. Size:4000\n",
      "[01/02/2024 09:23:09 PM : DEBUG : passive_le : ] : Querying 16 seed training points\n",
      "[01/02/2024 09:23:09 PM : DEBUG : passive_le : ] : Queried 16 seed points for training\n",
      "[01/02/2024 09:23:09 PM : DEBUG : passive_le : ] : Validation Data Size :2000\n",
      "[01/02/2024 09:23:09 PM : DEBUG : passive_le : ] : Querying rest of the training points 1984 in single batch\n",
      "[01/02/2024 09:23:09 PM : INFO  : passive_le : ] : Labeled data size for training: 2000\n",
      "[01/02/2024 09:23:09 PM : INFO  : passive_le : ] : --------------- Begin Model Training ------------\n",
      "[01/02/2024 09:23:09 PM : INFO  : passive_le : ] : Training conf :{'loss_tolerance': 1e-12, 'max_epochs': 15000, 'normalize_weights': True, 'C': 2000, 'stopping_criterion': 'val_err_threshold', 'val_err_threshold': 0.3, 'ckpt_load_path': 'None', 'ckpt_save_path': 'None', 'train_from_scratch': True, 'train_from_ckpt': False, 'ckpt_dir': './', 'probability': False, 'device': 'cpu', 'store_embedding': False, 'save_ckpt': False, 'num_trials': 1}\n",
      "[01/02/2024 09:23:09 PM : INFO  : passive_le : ] : Model conf : {'model_name': 'svm', 'input_dimension': 30, 'num_classes': 2, 'fit_intercept': False, 'lib': 'sklearn'}\n",
      "[01/02/2024 09:23:09 PM : DEBUG : sklearn_cl : ] : model_conf : {'model_name': 'svm', 'input_dimension': 30, 'num_classes': 2, 'fit_intercept': False, 'lib': 'sklearn'}\n",
      "[01/02/2024 09:23:09 PM : DEBUG : sklearn_cl : ] : Training Linear SVC\n",
      "[01/02/2024 09:23:10 PM : INFO  : passive_le : ] : --------------- End Model Training ------------\n"
     ]
    }
   ],
   "source": [
    "\n",
    "set_seed(conf['random_seed'])\n",
    "\n",
    "dm = DataManager(conf,logger)\n",
    "len(dm.ds_std_train), len(dm.ds_std_val)\n",
    "\n",
    "pl = PassiveLearning(conf,dm,logger)\n",
    "\n",
    "out = pl.run()"
   ]
  },
  {
   "cell_type": "code",
   "execution_count": 3,
   "metadata": {},
   "outputs": [
    {
     "name": "stdout",
     "output_type": "stream",
     "text": [
      "[01/02/2024 09:23:15 PM : INFO  : auto_label : ] : ========================= Begin Auto-Labeling selective ==========================\n",
      "[01/02/2024 09:23:15 PM : DEBUG : auto_label : ] : Auto Labeling Conf : {'method_name': 'selective', 'score_type': 'confidence', 'class_wise': 'independent', 'auto_label_err_threshold': 0.01, 'C_1': 0.25, 'ucb': 'sigma', 'fast': True}\n",
      "[01/02/2024 09:23:15 PM : INFO  : auto_label : ] : Number of unlabeled points : 14000\n",
      "[01/02/2024 09:23:15 PM : INFO  : auto_label : ] : Using number of validation points : 2000\n",
      "[01/02/2024 09:23:15 PM : INFO  : auto_label : ] : Using Auto-Labeling Error Threshold = 0.01\n",
      "[01/02/2024 09:23:15 PM : INFO  : auto_label : ] : Determining Thresholds : Class Wise : independent\n",
      "[01/02/2024 09:23:15 PM : DEBUG : threshold_ : ] : MAX score = 0.638450758320331, MIN score = 0.5000754200575415, delta = 1.3837533826278959e-05\n",
      "[01/02/2024 09:23:15 PM : DEBUG : threshold_ : ] : C_1 = 0.25 UCB = sigma\n",
      "[01/02/2024 09:23:15 PM : INFO  : threshold_ : ] : auto-labeling threshold t_i=0.5002691455311101 for class 0   \n",
      "[01/02/2024 09:23:15 PM : INFO  : threshold_ : ] : auto-labeling threshold t_i=0.5006842715459001 for class 1   \n",
      "[01/02/2024 09:23:15 PM : INFO  : auto_label : ] : auto-labeling thresholds from val set: [0.5002691455311101, 0.5006842715459001]\n",
      "[01/02/2024 09:23:16 PM : INFO  : auto_label : ] : Num auto labeled points : 13884 \n",
      "[01/02/2024 09:23:16 PM : INFO  : auto_label : ] : Num validation pts to remove : 1980\n",
      "[01/02/2024 09:23:16 PM : INFO  : auto_label : ] : ============================== Done Auto-Labeling ==============================\n"
     ]
    },
    {
     "data": {
      "text/plain": [
       "{'auto_labeled_acc': 0.9983434168827428, 'coverage_1': 0.86775}"
      ]
     },
     "execution_count": 3,
     "metadata": {},
     "output_type": "execute_result"
    }
   ],
   "source": [
    "auto_labeler = AutoLabeling(conf,dm,pl.cur_clf,logger)\n",
    "out = auto_labeler.run()\n",
    "dm.get_auto_labeling_counts()"
   ]
  },
  {
   "cell_type": "code",
   "execution_count": null,
   "metadata": {},
   "outputs": [],
   "source": []
  }
 ],
 "metadata": {
  "kernelspec": {
   "display_name": "act-learn",
   "language": "python",
   "name": "python3"
  },
  "language_info": {
   "codemirror_mode": {
    "name": "ipython",
    "version": 3
   },
   "file_extension": ".py",
   "mimetype": "text/x-python",
   "name": "python",
   "nbconvert_exporter": "python",
   "pygments_lexer": "ipython3",
   "version": "3.10.10"
  },
  "orig_nbformat": 4
 },
 "nbformat": 4,
 "nbformat_minor": 2
}
