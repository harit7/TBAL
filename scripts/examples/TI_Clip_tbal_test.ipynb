{
 "cells": [
  {
   "cell_type": "code",
   "execution_count": 2,
   "metadata": {},
   "outputs": [],
   "source": [
    "import sys\n",
    "sys.path.append('../../../')\n",
    "sys.path.append('../../')\n",
    "sys.path.append('../')\n",
    "\n",
    "from core.conf_defaults import *\n",
    "from core.tbal import * \n",
    "from core.auto_labeling import *\n",
    "from core.run_lib import * \n",
    "from datasets.dataset_utils import * \n",
    "from utils.counting_utils import *  \n",
    "from utils.common_utils import * \n",
    "from utils.vis_utils import *\n",
    "from utils.logging_utils import * \n",
    "from  datasets.data_manager import * \n",
    "from omegaconf import OmegaConf\n",
    "\n",
    "\n",
    "root_dir = '../../'\n",
    "conf_dir = f'{root_dir}configs/tiny-imagenet-CLIP/'\n",
    "\n",
    "base_conf_file = '{}/tiny_imagenet_CLIP_base_conf.yaml'.format(conf_dir)\n",
    "\n",
    "logger      = get_logger(f'{root_dir}/temp/logs/tbal_tiny_imagenet_CLIP_test.log',stdout_redirect=True,level=logging.DEBUG)\n",
    "\n",
    "conf = OmegaConf.load(base_conf_file)\n",
    "set_seed(conf['random_seed'])\n",
    "\n",
    "set_defaults(conf)\n",
    "\n",
    "\n",
    "conf['train_pts_query_conf']['max_num_train_pts'] = 10000\n",
    "\n",
    "\n",
    "conf['training_conf']['learning_rate']=0.1\n",
    "conf['training_conf']['optimizer'] = 'sgd'\n",
    "conf['training_conf']['batch_size']=64\n",
    "conf['training_conf']['max_epochs']=50\n",
    "conf['training_conf']['weight_decay']=0.001\n",
    "\n",
    "conf['data_conf']['compute_emb'] = False"
   ]
  },
  {
   "cell_type": "code",
   "execution_count": null,
   "metadata": {},
   "outputs": [],
   "source": [
    "\n",
    "\n",
    "dm = DataManager(conf,logger)\n",
    "len(dm.ds_std_train), len(dm.ds_std_val)\n",
    "\n",
    "tbal = ThresholdBasedAutoLabeling(conf,dm,logger)\n",
    "\n",
    "tbal.init()\n",
    "\n",
    "out = tbal.run_al_loop()"
   ]
  },
  {
   "cell_type": "code",
   "execution_count": null,
   "metadata": {},
   "outputs": [],
   "source": [
    "dm.get_auto_labeling_counts()"
   ]
  }
 ],
 "metadata": {
  "kernelspec": {
   "display_name": "Python 3.7.13 ('aistats')",
   "language": "python",
   "name": "python3"
  },
  "language_info": {
   "codemirror_mode": {
    "name": "ipython",
    "version": 3
   },
   "file_extension": ".py",
   "mimetype": "text/x-python",
   "name": "python",
   "nbconvert_exporter": "python",
   "pygments_lexer": "ipython3",
   "version": "3.10.10"
  },
  "orig_nbformat": 4,
  "vscode": {
   "interpreter": {
    "hash": "faa7bc759ba01db2861fa04517a1eb564f25d8054c4eb387e8f1f023e692c53e"
   }
  }
 },
 "nbformat": 4,
 "nbformat_minor": 2
}
