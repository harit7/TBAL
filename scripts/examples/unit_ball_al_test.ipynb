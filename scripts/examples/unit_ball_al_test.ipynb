{
 "cells": [
  {
   "cell_type": "code",
   "execution_count": null,
   "metadata": {},
   "outputs": [],
   "source": [
    "import sys\n",
    "sys.path.append('../../../')\n",
    "sys.path.append('../../')\n",
    "sys.path.append('../')\n",
    "\n",
    "from core.conf_defaults import *\n",
    "from core.tbal import * \n",
    "from core.auto_labeling import *\n",
    "from core.run_lib import * \n",
    "from datasets.dataset_utils import * \n",
    "from utils.counting_utils import *  \n",
    "from utils.common_utils import * \n",
    "from utils.vis_utils import *\n",
    "from utils.logging_utils import * \n",
    "from  datasets.data_manager import * \n",
    "from omegaconf import OmegaConf\n",
    "\n",
    "\n",
    "root_dir = '../../'\n",
    "conf_dir = f'{root_dir}configs/unit-ball/'\n",
    "\n",
    "base_conf_file = '{}/unit_ball_base_conf.yaml'.format(conf_dir)\n",
    "\n",
    "logger      = get_logger(f'{root_dir}/temp/logs/tbal_unit_ball_test.log',stdout_redirect=True,level=logging.DEBUG)\n",
    "\n",
    "conf = OmegaConf.load(base_conf_file)\n",
    "set_seed(conf['random_seed'])\n",
    "\n",
    "set_defaults(conf)"
   ]
  },
  {
   "cell_type": "code",
   "execution_count": null,
   "metadata": {},
   "outputs": [],
   "source": [
    "\n",
    "set_seed(conf['random_seed'])\n",
    "\n",
    "dm = DataManager(conf,logger)\n",
    "len(dm.ds_std_train), len(dm.ds_std_val)\n",
    "\n",
    "act_lbl = ActiveLearning(conf,dm,logger)\n",
    "\n",
    "act_lbl.init()\n",
    "\n",
    "out = act_lbl.run_al_loop()"
   ]
  },
  {
   "cell_type": "code",
   "execution_count": null,
   "metadata": {},
   "outputs": [],
   "source": [
    "auto_labeler = AutoLabeling(conf,dm,act_lbl.cur_clf,logger)\n",
    "out = auto_labeler.run()\n",
    "dm.get_auto_labeling_counts()"
   ]
  },
  {
   "cell_type": "code",
   "execution_count": null,
   "metadata": {},
   "outputs": [],
   "source": []
  }
 ],
 "metadata": {
  "kernelspec": {
   "display_name": "Python 3.7.13 ('aistats')",
   "language": "python",
   "name": "python3"
  },
  "language_info": {
   "codemirror_mode": {
    "name": "ipython",
    "version": 3
   },
   "file_extension": ".py",
   "mimetype": "text/x-python",
   "name": "python",
   "nbconvert_exporter": "python",
   "pygments_lexer": "ipython3",
   "version": "3.10.10"
  },
  "orig_nbformat": 4,
  "vscode": {
   "interpreter": {
    "hash": "faa7bc759ba01db2861fa04517a1eb564f25d8054c4eb387e8f1f023e692c53e"
   }
  }
 },
 "nbformat": 4,
 "nbformat_minor": 2
}
