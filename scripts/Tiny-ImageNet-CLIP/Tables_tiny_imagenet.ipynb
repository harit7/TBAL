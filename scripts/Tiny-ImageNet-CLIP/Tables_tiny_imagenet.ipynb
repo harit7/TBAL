{
 "cells": [
  {
   "cell_type": "code",
   "execution_count": 1,
   "metadata": {},
   "outputs": [],
   "source": [
    "import sys \n",
    "sys.path.append('../../')\n",
    "sys.path.append('../../../')\n",
    "\n",
    "from utils.counting_utils import * \n",
    "from utils.plotting_utils import * \n",
    "\n",
    "base_params = {\n",
    "    'C':2,\n",
    "    'C_1':0,\n",
    "    'eps':0.01,\n",
    "    'max_num_train_pts':200,\n",
    "    'max_num_val_pts':4000,\n",
    "    'seed_frac':0.2,\n",
    "    'query_batch_frac':0.05,\n",
    "    'method':'active_labeling'\n",
    "}\n",
    "\n",
    "root_pfx = '../../outputs/tiny_imagenet_CLIP_runs_2'\n",
    "\n",
    "lst_outs = get_all_outs_for_exp(root_pfx)\n"
   ]
  },
  {
   "cell_type": "code",
   "execution_count": 2,
   "metadata": {},
   "outputs": [],
   "source": [
    "def get_tab_small(key,key_math, values, base_params):\n",
    "    D = {}\n",
    "    D[key_math] = values \n",
    "    print(base_params)\n",
    "    out = get_numbers_for_param(lst_outs,base_params,key,values)\n",
    "\n",
    "    D['TBAL Error'] = [\"{:.2f}\".format(u)+ \" \\\\tiny{$\\pm$\"+ \"{:.2f}\".format(v) +\"}\" for u,v in zip(out['ALBL_sel_err_mean']*100,out['ALBL_sel_err_std']*100)]\n",
    "\n",
    "\n",
    "    D['AL+SC Error'] = [\"{:.2f}\".format(u)+ \" \\\\tiny{$\\pm$\"+ \"{:.2f}\".format(v) +\"}\"  for u,v in zip(out['AL_sel_err_mean']*100,out['AL_sel_err_std']*100)]\n",
    "    D['TBAL Cov'] = [\"{:.2f}\".format(u)+ \" \\\\tiny{$\\pm$\"+ \"{:.2f}\".format(v) +\"}\"  for u,v in zip(out['ALBL_sel_cov_mean']*100,out['ALBL_sel_cov_std']*100)]\n",
    "\n",
    "    D['AL+SC Cov'] = [\"{:.2f}\".format(u)+ \" \\\\tiny{$\\pm$\"+ \"{:.2f}\".format(v) +\"}\"  for u,v in zip(out['AL_sel_cov_mean']*100,out['AL_sel_cov_std']*100)]\n",
    "\n",
    "    u = len(values)\n",
    "    z = \"\"\n",
    "    for i in range(u):\n",
    "        z += \" & \".join([ str(D[key_math][i]),D['TBAL Error'][i],D['AL+SC Error'][i],D['TBAL Cov'][i],D['AL+SC Cov'][i]]) + \"   \\\\\\\\ \\n \\midrule \\n\"\n",
    "    z = z.rstrip('\\midrule \\n')\n",
    "\n",
    "    head =  [\"\\\\begin{tabular}{r|cc|cc}\",\n",
    "            \"\\\\toprule\",\n",
    "                \"\\multirow{2}{*}{$\\mathbf{\"+key_math+\"}$} & \\multicolumn{2}{c}{\\\\textbf{Error (\\%)} } &  \\multicolumn{2}{c}{\\\\textbf{Coverage (\\%)}} \\\\\\\\ \",\n",
    "                \"\\cmidrule{2-5}\",  \n",
    "                \"& {\\\\textbf{TBAL}} & {\\\\textbf{AL+SC}} & {\\\\textbf{TBAL}} & {\\\\textbf{AL+SC}}  \\\\\\\\\", \n",
    "                \"\\\\toprule \" \n",
    "                ]  \n",
    "                \n",
    "    head = \"\\n\".join(head)\n",
    "    tab = head + \"\\n\" + z +  \"\\\\\\\\ \\n \\\\toprule \\n \\end{tabular}\"\n",
    "    return tab \n"
   ]
  },
  {
   "cell_type": "code",
   "execution_count": 7,
   "metadata": {},
   "outputs": [],
   "source": [
    "def get_tab_full(key,key_math, values, base_params):\n",
    "    D = {}\n",
    "    D[key_math] = values \n",
    "    print(base_params)\n",
    "    out = get_numbers_for_param(lst_outs,base_params,key,values)\n",
    "\n",
    "    D['TBAL Error'] = [\"{:.2f}\".format(u)+ \" \\\\tiny{$\\pm$\"+ \"{:.2f}\".format(v) +\"}\" for u,v in zip(out['ALBL_sel_err_mean']*100,out['ALBL_sel_err_std']*100)]\n",
    "\n",
    "\n",
    "    D['AL+SC Error'] = [\"{:.2f}\".format(u)+ \" \\\\tiny{$\\pm$\"+ \"{:.2f}\".format(v) +\"}\"  for u,v in zip(out['AL_sel_err_mean']*100,out['AL_sel_err_std']*100)]\n",
    "    D['PL+SC Error'] = [\"{:.2f}\".format(u)+ \" \\\\tiny{$\\pm$\"+ \"{:.2f}\".format(v) +\"}\"  for u,v in zip(out['PL_sel_err_mean']*100,out['PL_sel_err_std']*100)]\n",
    "    D['AL Error'] = [\"{:.2f}\".format(u)+ \" \\\\tiny{$\\pm$\"+ \"{:.2f}\".format(v) +\"}\"  for u,v in zip(out['AL_all_err_mean']*100,out['AL_all_err_std']*100)]\n",
    "    D['PL Error'] = [\"{:.2f}\".format(u)+ \" \\\\tiny{$\\pm$\"+ \"{:.2f}\".format(v) +\"}\"  for u,v in zip(out['PL_all_err_mean']*100,out['PL_all_err_std']*100)]\n",
    "\n",
    "    D['TBAL Cov'] = [\"{:.2f}\".format(u)+ \" \\\\tiny{$\\pm$\"+ \"{:.2f}\".format(v) +\"}\"  for u,v in zip(out['ALBL_sel_cov_mean']*100,out['ALBL_sel_cov_std']*100)]\n",
    "\n",
    "    D['AL+SC Cov'] = [\"{:.2f}\".format(u)+ \" \\\\tiny{$\\pm$\"+ \"{:.2f}\".format(v) +\"}\"  for u,v in zip(out['AL_sel_cov_mean']*100,out['AL_sel_cov_std']*100)]\n",
    "    D['PL+SC Cov'] = [\"{:.2f}\".format(u)+ \" \\\\tiny{$\\pm$\"+ \"{:.2f}\".format(v) +\"}\"  for u,v in zip(out['PL_sel_cov_mean']*100,out['PL_sel_cov_std']*100)]\n",
    "    D['AL Cov'] = [\"{:.2f}\".format(u)+ \" \\\\tiny{$\\pm$\"+ \"{:.2f}\".format(v) +\"}\"  for u,v in zip(out['AL_all_cov_mean']*100,out['AL_all_cov_std']*100)]\n",
    "    D['PL Cov'] = [\"{:.2f}\".format(u)+ \" \\\\tiny{$\\pm$\"+ \"{:.2f}\".format(v) +\"}\"  for u,v in zip(out['PL_all_cov_mean']*100,out['PL_all_cov_std']*100)]\n",
    "\n",
    "    u = len(values)\n",
    "    z = \"\"\n",
    "    for i in range(u):\n",
    "        z += \" & \".join([ str(D[key_math][i]),D['TBAL Error'][i],D['AL+SC Error'][i],D['PL+SC Error'][i], D['AL Error'][i], D['PL Error'][i],\n",
    "                            D['TBAL Cov'][i],D['AL+SC Cov'][i],D['PL+SC Cov'][i], D['AL Cov'][i], D['PL Cov'][i]]) + \"   \\\\\\\\ \\n \\midrule \\n\"\n",
    "    z = z.rstrip('\\midrule \\n')\n",
    "\n",
    "    head =  [\"\\\\begin{tabular}{r|ccccc|ccccc}\",\n",
    "            \"\\\\toprule\",\n",
    "                \"\\multirow{2}{*}{$\\mathbf{\"+key_math+\"}$} & \\multicolumn{5}{c}{\\\\textbf{Error (\\%)} } &  \\multicolumn{5}{c}{\\\\textbf{Coverage (\\%)}} \\\\\\\\ \",\n",
    "                \"\\cmidrule{2-11}\",  \n",
    "                \"& {\\\\textbf{TBAL}} & {\\\\textbf{AL+SC}} & {\\\\textbf{PL+SC}} & {\\\\textbf{AL}} & {\\\\textbf{PL}} & {\\\\textbf{TBAL}} & {\\\\textbf{AL+SC}} & {\\\\textbf{PL+SC}} &{\\\\textbf{AL}} & {\\\\textbf{PL}} \\\\\\\\\", \n",
    "                \"\\\\toprule \" \n",
    "                ]  \n",
    "                \n",
    "    head = \"\\n\".join(head)\n",
    "    tab = head + \"\\n\" + z +  \"\\\\\\\\ \\n \\\\toprule \\n \\end{tabular}\"\n",
    "    s = \"\\\\begin{table}[t] \\n \\scalebox{0.72}{ \\n \" + tab + \"\\n } \\n \\end{table}\"\n",
    "    return s \n"
   ]
  },
  {
   "cell_type": "code",
   "execution_count": 3,
   "metadata": {},
   "outputs": [
    {
     "name": "stdout",
     "output_type": "stream",
     "text": [
      "{'C': 2, 'C_1': 0.25, 'eps': 0.1, 'max_num_train_pts': 200, 'max_num_val_pts': 10000, 'seed_frac': 0.2, 'query_batch_frac': 0.05, 'method': 'active_labeling'}\n",
      "\\begin{tabular}{r|cc|cc}\n",
      "\\toprule\n",
      "\\multirow{2}{*}{$\\mathbf{N_q}$} & \\multicolumn{2}{c}{\\textbf{Error (\\%)} } &  \\multicolumn{2}{c}{\\textbf{Coverage (\\%)}} \\\\ \n",
      "\\cmidrule{2-5}\n",
      "& {\\textbf{TBAL}} & {\\textbf{AL+SC}} & {\\textbf{TBAL}} & {\\textbf{AL+SC}}  \\\\\n",
      "\\toprule \n",
      "2000 & 9.22 \\tiny{$\\pm$1.04} & 7.42 \\tiny{$\\pm$0.71} & 17.51 \\tiny{$\\pm$1.16} & 9.33 \\tiny{$\\pm$0.66}   \\\\ \n",
      " \\midrule \n",
      "4000 & 9.30 \\tiny{$\\pm$0.38} & 6.97 \\tiny{$\\pm$0.39} & 25.01 \\tiny{$\\pm$1.20} & 14.25 \\tiny{$\\pm$1.71}   \\\\ \n",
      " \\midrule \n",
      "6000 & 9.12 \\tiny{$\\pm$0.22} & 6.85 \\tiny{$\\pm$0.26} & 28.06 \\tiny{$\\pm$0.75} & 17.51 \\tiny{$\\pm$0.36}   \\\\ \n",
      " \\midrule \n",
      "8000 & 9.21 \\tiny{$\\pm$0.14} & 7.38 \\tiny{$\\pm$0.53} & 30.88 \\tiny{$\\pm$0.64} & 21.18 \\tiny{$\\pm$0.90}   \\\\ \n",
      " \\midrule \n",
      "10000 & 8.95 \\tiny{$\\pm$0.23} & 7.10 \\tiny{$\\pm$0.26} & 32.31 \\tiny{$\\pm$1.21} & 22.34 \\tiny{$\\pm$0.61}\\\\ \n",
      " \\toprule \n",
      " \\end{tabular}\n"
     ]
    }
   ],
   "source": [
    "eps = 0.1\n",
    "c1 = 0.25\n",
    "\n",
    "base_params['max_num_val_pts'] = 10000\n",
    "\n",
    "base_params['C_1'] = c1\n",
    "base_params['eps'] = eps \n",
    "\n",
    "lst_n_q =  [2000,4000,6000,8000,10000]\n",
    "tab = get_tab_small(\"max_num_train_pts\",\"N_q\", lst_n_q, base_params)\n",
    "\n",
    "print(tab)"
   ]
  },
  {
   "cell_type": "code",
   "execution_count": 5,
   "metadata": {},
   "outputs": [
    {
     "name": "stdout",
     "output_type": "stream",
     "text": [
      "{'C': 2, 'C_1': 0, 'eps': 0.1, 'max_num_train_pts': 200, 'max_num_val_pts': 10000, 'seed_frac': 0.2, 'query_batch_frac': 0.05, 'method': 'active_labeling'}\n",
      "\\begin{tabular}{r|cc|cc}\n",
      "\\toprule\n",
      "\\multirow{2}{*}{$\\mathbf{N_q}$} & \\multicolumn{2}{c}{\\textbf{Error (\\%)} } &  \\multicolumn{2}{c}{\\textbf{Coverage (\\%)}} \\\\ \n",
      "\\cmidrule{2-5}\n",
      "& {\\textbf{TBAL}} & {\\textbf{AL+SC}} & {\\textbf{TBAL}} & {\\textbf{AL+SC}}  \\\\\n",
      "\\toprule \n",
      "2000 & 14.02 \\tiny{$\\pm$0.26} & 11.49 \\tiny{$\\pm$0.80} & 24.34 \\tiny{$\\pm$0.86} & 14.41 \\tiny{$\\pm$1.00}   \\\\ \n",
      " \\midrule \n",
      "4000 & 14.10 \\tiny{$\\pm$0.77} & 11.58 \\tiny{$\\pm$0.26} & 34.16 \\tiny{$\\pm$1.00} & 21.84 \\tiny{$\\pm$1.36}   \\\\ \n",
      " \\midrule \n",
      "6000 & 13.55 \\tiny{$\\pm$0.17} & 11.33 \\tiny{$\\pm$0.35} & 37.80 \\tiny{$\\pm$1.05} & 28.59 \\tiny{$\\pm$1.53}   \\\\ \n",
      " \\midrule \n",
      "8000 & 13.79 \\tiny{$\\pm$0.27} & 11.72 \\tiny{$\\pm$0.32} & 42.00 \\tiny{$\\pm$1.71} & 32.00 \\tiny{$\\pm$1.12}   \\\\ \n",
      " \\midrule \n",
      "10000 & 13.26 \\tiny{$\\pm$0.35} & 11.42 \\tiny{$\\pm$0.28} & 43.63 \\tiny{$\\pm$0.38} & 33.80 \\tiny{$\\pm$0.82}\\\\ \n",
      " \\toprule \n",
      " \\end{tabular}\n"
     ]
    }
   ],
   "source": [
    "eps = 0.1\n",
    "c1 = 0\n",
    "\n",
    "base_params['max_num_val_pts'] = 10000\n",
    "\n",
    "base_params['C_1'] = c1\n",
    "base_params['eps'] = eps \n",
    "\n",
    "lst_n_q =  [2000,4000,6000,8000,10000]\n",
    "tab = get_tab_small(\"max_num_train_pts\",\"N_q\", lst_n_q, base_params)\n",
    "\n",
    "print(tab)"
   ]
  },
  {
   "cell_type": "code",
   "execution_count": 8,
   "metadata": {},
   "outputs": [
    {
     "name": "stdout",
     "output_type": "stream",
     "text": [
      "{'C': 2, 'C_1': 0, 'eps': 0.1, 'max_num_train_pts': 200, 'max_num_val_pts': 10000, 'seed_frac': 0.2, 'query_batch_frac': 0.05, 'method': 'active_labeling'}\n",
      "\\begin{table}[t] \n",
      " \\scalebox{0.72}{ \n",
      " \\begin{tabular}{r|ccccc|ccccc}\n",
      "\\toprule\n",
      "\\multirow{2}{*}{$\\mathbf{N_q}$} & \\multicolumn{5}{c}{\\textbf{Error (\\%)} } &  \\multicolumn{5}{c}{\\textbf{Coverage (\\%)}} \\\\ \n",
      "\\cmidrule{2-11}\n",
      "& {\\textbf{TBAL}} & {\\textbf{AL+SC}} & {\\textbf{PL+SC}} & {\\textbf{AL}} & {\\textbf{PL}} & {\\textbf{TBAL}} & {\\textbf{AL+SC}} & {\\textbf{PL+SC}} &{\\textbf{AL}} & {\\textbf{PL}} \\\\\n",
      "\\toprule \n",
      "2000 & 14.02 \\tiny{$\\pm$0.26} & 11.49 \\tiny{$\\pm$0.80} & 12.17 \\tiny{$\\pm$0.35} & 52.34 \\tiny{$\\pm$1.16} & 42.94 \\tiny{$\\pm$0.26} & 24.34 \\tiny{$\\pm$0.86} & 14.41 \\tiny{$\\pm$1.00} & 25.13 \\tiny{$\\pm$0.58} & 99.00 \\tiny{$\\pm$0.00} & 98.00 \\tiny{$\\pm$0.00}   \\\\ \n",
      " \\midrule \n",
      "4000 & 14.10 \\tiny{$\\pm$0.77} & 11.58 \\tiny{$\\pm$0.26} & 11.92 \\tiny{$\\pm$0.39} & 43.14 \\tiny{$\\pm$0.33} & 36.07 \\tiny{$\\pm$0.41} & 34.16 \\tiny{$\\pm$1.00} & 21.84 \\tiny{$\\pm$1.36} & 33.41 \\tiny{$\\pm$0.65} & 98.00 \\tiny{$\\pm$0.00} & 96.00 \\tiny{$\\pm$0.00}   \\\\ \n",
      " \\midrule \n",
      "6000 & 13.55 \\tiny{$\\pm$0.17} & 11.33 \\tiny{$\\pm$0.35} & 12.31 \\tiny{$\\pm$0.16} & 38.73 \\tiny{$\\pm$0.59} & 33.51 \\tiny{$\\pm$0.19} & 37.80 \\tiny{$\\pm$1.05} & 28.59 \\tiny{$\\pm$1.53} & 38.14 \\tiny{$\\pm$0.85} & 97.00 \\tiny{$\\pm$0.00} & 94.00 \\tiny{$\\pm$0.00}   \\\\ \n",
      " \\midrule \n",
      "8000 & 13.79 \\tiny{$\\pm$0.27} & 11.72 \\tiny{$\\pm$0.32} & 12.36 \\tiny{$\\pm$0.30} & 36.06 \\tiny{$\\pm$0.30} & 32.33 \\tiny{$\\pm$0.32} & 42.00 \\tiny{$\\pm$1.71} & 32.00 \\tiny{$\\pm$1.12} & 39.64 \\tiny{$\\pm$1.07} & 96.00 \\tiny{$\\pm$0.00} & 92.00 \\tiny{$\\pm$0.00}   \\\\ \n",
      " \\midrule \n",
      "10000 & 13.26 \\tiny{$\\pm$0.35} & 11.42 \\tiny{$\\pm$0.28} & 12.14 \\tiny{$\\pm$0.45} & 34.27 \\tiny{$\\pm$0.21} & 31.47 \\tiny{$\\pm$0.17} & 43.63 \\tiny{$\\pm$0.38} & 33.80 \\tiny{$\\pm$0.82} & 39.23 \\tiny{$\\pm$0.37} & 95.00 \\tiny{$\\pm$0.00} & 90.00 \\tiny{$\\pm$0.00}\\\\ \n",
      " \\toprule \n",
      " \\end{tabular}\n",
      " } \n",
      " \\end{table}\n"
     ]
    }
   ],
   "source": [
    "eps = 0.1\n",
    "c1 = 0\n",
    "\n",
    "base_params['max_num_val_pts'] = 10000\n",
    "\n",
    "base_params['C_1'] = c1\n",
    "base_params['eps'] = eps \n",
    "\n",
    "lst_n_q =  [2000,4000,6000,8000,10000]\n",
    "tab = get_tab_full(\"max_num_train_pts\",\"N_q\", lst_n_q, base_params)\n",
    "\n",
    "print(tab)"
   ]
  },
  {
   "cell_type": "code",
   "execution_count": 9,
   "metadata": {},
   "outputs": [
    {
     "name": "stdout",
     "output_type": "stream",
     "text": [
      "{'C': 2, 'C_1': 0.25, 'eps': 0.1, 'max_num_train_pts': 200, 'max_num_val_pts': 10000, 'seed_frac': 0.2, 'query_batch_frac': 0.05, 'method': 'active_labeling'}\n",
      "\\begin{table}[t] \n",
      " \\scalebox{0.72}{ \n",
      " \\begin{tabular}{r|ccccc|ccccc}\n",
      "\\toprule\n",
      "\\multirow{2}{*}{$\\mathbf{N_q}$} & \\multicolumn{5}{c}{\\textbf{Error (\\%)} } &  \\multicolumn{5}{c}{\\textbf{Coverage (\\%)}} \\\\ \n",
      "\\cmidrule{2-11}\n",
      "& {\\textbf{TBAL}} & {\\textbf{AL+SC}} & {\\textbf{PL+SC}} & {\\textbf{AL}} & {\\textbf{PL}} & {\\textbf{TBAL}} & {\\textbf{AL+SC}} & {\\textbf{PL+SC}} &{\\textbf{AL}} & {\\textbf{PL}} \\\\\n",
      "\\toprule \n",
      "2000 & 9.22 \\tiny{$\\pm$1.04} & 7.42 \\tiny{$\\pm$0.71} & 7.48 \\tiny{$\\pm$0.32} & 52.34 \\tiny{$\\pm$1.16} & 42.94 \\tiny{$\\pm$0.26} & 17.51 \\tiny{$\\pm$1.16} & 9.33 \\tiny{$\\pm$0.66} & 17.02 \\tiny{$\\pm$1.32} & 99.00 \\tiny{$\\pm$0.00} & 98.00 \\tiny{$\\pm$0.00}   \\\\ \n",
      " \\midrule \n",
      "4000 & 9.30 \\tiny{$\\pm$0.38} & 6.97 \\tiny{$\\pm$0.39} & 7.37 \\tiny{$\\pm$0.21} & 43.14 \\tiny{$\\pm$0.33} & 36.07 \\tiny{$\\pm$0.41} & 25.01 \\tiny{$\\pm$1.20} & 14.25 \\tiny{$\\pm$1.71} & 22.29 \\tiny{$\\pm$0.61} & 98.00 \\tiny{$\\pm$0.00} & 96.00 \\tiny{$\\pm$0.00}   \\\\ \n",
      " \\midrule \n",
      "6000 & 9.12 \\tiny{$\\pm$0.22} & 6.85 \\tiny{$\\pm$0.26} & 7.49 \\tiny{$\\pm$0.35} & 38.73 \\tiny{$\\pm$0.59} & 33.51 \\tiny{$\\pm$0.19} & 28.06 \\tiny{$\\pm$0.75} & 17.51 \\tiny{$\\pm$0.36} & 25.60 \\tiny{$\\pm$0.34} & 97.00 \\tiny{$\\pm$0.00} & 94.00 \\tiny{$\\pm$0.00}   \\\\ \n",
      " \\midrule \n",
      "8000 & 9.21 \\tiny{$\\pm$0.14} & 7.38 \\tiny{$\\pm$0.53} & 7.71 \\tiny{$\\pm$0.25} & 36.06 \\tiny{$\\pm$0.30} & 32.33 \\tiny{$\\pm$0.32} & 30.88 \\tiny{$\\pm$0.64} & 21.18 \\tiny{$\\pm$0.90} & 27.26 \\tiny{$\\pm$0.78} & 96.00 \\tiny{$\\pm$0.00} & 92.00 \\tiny{$\\pm$0.00}   \\\\ \n",
      " \\midrule \n",
      "10000 & 8.95 \\tiny{$\\pm$0.23} & 7.10 \\tiny{$\\pm$0.26} & 7.42 \\tiny{$\\pm$0.36} & 34.27 \\tiny{$\\pm$0.21} & 31.47 \\tiny{$\\pm$0.17} & 32.31 \\tiny{$\\pm$1.21} & 22.34 \\tiny{$\\pm$0.61} & 27.36 \\tiny{$\\pm$0.59} & 95.00 \\tiny{$\\pm$0.00} & 90.00 \\tiny{$\\pm$0.00}\\\\ \n",
      " \\toprule \n",
      " \\end{tabular}\n",
      " } \n",
      " \\end{table}\n"
     ]
    }
   ],
   "source": [
    "eps = 0.1\n",
    "c1 = 0.25\n",
    "\n",
    "base_params['max_num_val_pts'] = 10000\n",
    "\n",
    "base_params['C_1'] = c1\n",
    "base_params['eps'] = eps \n",
    "\n",
    "lst_n_q =  [2000,4000,6000,8000,10000]\n",
    "tab = get_tab_full(\"max_num_train_pts\",\"N_q\", lst_n_q, base_params)\n",
    "\n",
    "print(tab)"
   ]
  },
  {
   "cell_type": "code",
   "execution_count": null,
   "metadata": {},
   "outputs": [],
   "source": []
  }
 ],
 "metadata": {
  "kernelspec": {
   "display_name": "act-lbl",
   "language": "python",
   "name": "python3"
  },
  "language_info": {
   "codemirror_mode": {
    "name": "ipython",
    "version": 3
   },
   "file_extension": ".py",
   "mimetype": "text/x-python",
   "name": "python",
   "nbconvert_exporter": "python",
   "pygments_lexer": "ipython3",
   "version": "3.10.10"
  }
 },
 "nbformat": 4,
 "nbformat_minor": 2
}
